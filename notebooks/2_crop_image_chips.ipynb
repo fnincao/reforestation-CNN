{
 "cells": [
  {
   "attachments": {},
   "cell_type": "markdown",
   "metadata": {},
   "source": [
    "## 2 - Crop Image Chips\n",
    "\n",
    "This notebook serves as the second step in the application of a methodology for identifying reforestation projects in the Brazilian Atlantic Rainforest. The methodology was developed by Felipe Begliomini as part of his MRes dissertation for the AI4ER program at the University of Cambridge.\n",
    "\n",
    "As we are working with different platforms, each satellite's data possesses various attributes such as spatial resolution, gridding, and crs. To ensure consistency in applying the AI methodology, this notebook focuses on cropping the images downloaded in the previous notebook (1_download_gee_images.ipynb) to a standardized spatial extent.\n",
    "\n",
    "All the images will represent an area of 2000x2000 meters. The Planet and reference chips will be cropped to a final size of 400x400 pixels (5m resolution), the Sentinel-1 images will be cropped to 200x200 pixels (10m resolution), and the Sentinel-2 images will be converted to a 100x100 pixel (20m resolution) squared format.\n",
    "\n",
    "### Imports"
   ]
  },
  {
   "cell_type": "code",
   "execution_count": 1,
   "metadata": {},
   "outputs": [],
   "source": [
    "from src.data.tools.crop_image import crop_ref_img\n",
    "from src.data.tools.crop_image import crop_other_img"
   ]
  },
  {
   "attachments": {},
   "cell_type": "markdown",
   "metadata": {},
   "source": [
    "### Crop the reference data \n",
    "\n",
    "This image will be used to define the spatial extent to crop other images. First, we identify the center pixel, and from there we define the size of the image (400x400)."
   ]
  },
  {
   "cell_type": "code",
   "execution_count": 2,
   "metadata": {},
   "outputs": [],
   "source": [
    "crop_ref_img(path='/maps/fnb25/data/images/1_reference',\n",
    "             out_dir='/maps/fnb25/data/images/2_reference_croped')"
   ]
  },
  {
   "attachments": {},
   "cell_type": "markdown",
   "metadata": {},
   "source": [
    "### Crop the Planet Imagery\n",
    "\n",
    "The image chips will be cropped based on the bbox from the reference data. The final output will have 400x400 pixels and 5m spatial resolution."
   ]
  },
  {
   "cell_type": "code",
   "execution_count": 2,
   "metadata": {},
   "outputs": [],
   "source": [
    "crop_other_img(to_crop_path='/maps/fnb25/data/images/3_planet',\n",
    "               out_dir='/maps/fnb25/data/images/4_planet_croped',\n",
    "               ref_path='/maps/fnb25/data/images/2_reference_croped')"
   ]
  },
  {
   "attachments": {},
   "cell_type": "markdown",
   "metadata": {},
   "source": [
    "### Crop the Sentinel-1 Imagery\n",
    "\n",
    "The image chips will be cropped based on the bbox from the reference data. The final output will have 200x200 pixels and 10m spatial resolution."
   ]
  },
  {
   "cell_type": "code",
   "execution_count": 3,
   "metadata": {},
   "outputs": [],
   "source": [
    "crop_other_img(to_crop_path='/maps/fnb25/data/images/5_sentinel1',\n",
    "               out_dir='/maps/fnb25/data/images/6_sentinel1_croped',\n",
    "               ref_path='/maps/fnb25/data/images/2_reference_croped')"
   ]
  },
  {
   "attachments": {},
   "cell_type": "markdown",
   "metadata": {},
   "source": [
    "### Crop the Sentinel-2 Imagery\n",
    "\n",
    "The image chips will be cropped based on the bbox from the reference data. The final output will have 100x100 pixels and 20m spatial resolution."
   ]
  },
  {
   "cell_type": "code",
   "execution_count": null,
   "metadata": {},
   "outputs": [],
   "source": [
    "# crop_other_img(to_crop_path='/maps/fnb25/data/images/5_sentinel1',\n",
    "#                out_dir='/maps/fnb25/data/images/6_sentinel1_croped',\n",
    "#                ref_path='/maps/fnb25/data/images/2_reference_croped')"
   ]
  }
 ],
 "metadata": {
  "kernelspec": {
   "display_name": "mres_env",
   "language": "python",
   "name": "python3"
  },
  "language_info": {
   "codemirror_mode": {
    "name": "ipython",
    "version": 3
   },
   "file_extension": ".py",
   "mimetype": "text/x-python",
   "name": "python",
   "nbconvert_exporter": "python",
   "pygments_lexer": "ipython3",
   "version": "3.11.3"
  },
  "orig_nbformat": 4
 },
 "nbformat": 4,
 "nbformat_minor": 2
}
