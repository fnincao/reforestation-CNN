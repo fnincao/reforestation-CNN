{
 "cells": [
  {
   "attachments": {},
   "cell_type": "markdown",
   "metadata": {},
   "source": [
    "## Download image chips from Google Earth Engine\n",
    "\n",
    "This notebook contains the steps for downloading image chips from Google Earth Engine to feed an U-Net for identifying reforestation projects in the Brazilian Atlantic Rainforest. This notebook was inspired by [Fast(er) Downloads](https://gorelick.medium.com/fast-er-downloads-a2abd512aa26) and the [geemap notebook](https://geemap.org/notebooks/96_image_chips/).\n",
    "\n",
    "#### Import files"
   ]
  },
  {
   "cell_type": "code",
   "execution_count": 28,
   "metadata": {},
   "outputs": [],
   "source": [
    "import ee\n",
    "from src.data.tools.download_gee import GetImageChips\n",
    "import geemap"
   ]
  },
  {
   "attachments": {},
   "cell_type": "markdown",
   "metadata": {},
   "source": [
    "#### Authenticate and Initialize GEE to use the high-volume endpoint\n",
    "\n",
    "- [high-volume endpoint](https://developers.google.com/earth-engine/cloud/highvolume)"
   ]
  },
  {
   "cell_type": "code",
   "execution_count": 29,
   "metadata": {},
   "outputs": [],
   "source": [
    "# Uncoment the next line if you need to authinticate this device\n",
    "#ee.Authenticate()\n",
    "\n",
    "ee.Initialize(opt_url='https://earthengine-highvolume.googleapis.com')"
   ]
  },
  {
   "attachments": {},
   "cell_type": "markdown",
   "metadata": {},
   "source": [
    "#### Import the field data"
   ]
  },
  {
   "cell_type": "code",
   "execution_count": 30,
   "metadata": {},
   "outputs": [],
   "source": [
    "# Import the rasterized data in raster format (5m)\n",
    "ref_raster = ee.Image('users/fnincao/MRes/sudeste_data')\n",
    "\n",
    "# Importe the reference data in poly format\n",
    "ref_vector = ee.FeatureCollection('users/fnincao/MRes/polygons')\n",
    "\n",
    "# Define the region of Interest\n",
    "region = ref_image.geometry()"
   ]
  },
  {
   "attachments": {},
   "cell_type": "markdown",
   "metadata": {},
   "source": [
    "#### Generate the points that will be used to create the image chips"
   ]
  },
  {
   "cell_type": "code",
   "execution_count": 31,
   "metadata": {},
   "outputs": [],
   "source": [
    "def extract_centroid(feature):\n",
    "    centroid = feature.centroid()\n",
    "    return ee.Feature(centroid)\n",
    "\n",
    "# Extract the centroid values from all polygons\n",
    "points = ref_vector.map(extract_centroid).limit(50)\n"
   ]
  },
  {
   "cell_type": "markdown",
   "metadata": {},
   "source": [
    "#### Generates the images to extract the chips\n",
    "\n",
    "##### Reference Image"
   ]
  },
  {
   "cell_type": "code",
   "execution_count": 32,
   "metadata": {},
   "outputs": [],
   "source": [
    "# Convert the reference image to a binary mask\n",
    "ref_image = ref_raster\\\n",
    "        .where(ref_raster.gt(0), 1)\\\n",
    "        .unmask(0)\\\n",
    "        .toInt()"
   ]
  },
  {
   "attachments": {},
   "cell_type": "markdown",
   "metadata": {},
   "source": [
    "##### Planet Image (NIR / RED / GREEN) (5m)"
   ]
  },
  {
   "cell_type": "code",
   "execution_count": 33,
   "metadata": {},
   "outputs": [],
   "source": [
    "# Create a composite from Planet basemap from Jan-Apr 2023\n",
    "planet_image =  ee.ImageCollection(\"projects/planet-nicfi/assets/basemaps/americas\")\\\n",
    "            .filterDate('2023-01-01','2023-04-01')\\\n",
    "            .median()\\\n",
    "            .select('N','R','G')\n"
   ]
  },
  {
   "attachments": {},
   "cell_type": "markdown",
   "metadata": {},
   "source": [
    "#### Sentinel-1 Images (Band-C VV and VH) (10m)"
   ]
  },
  {
   "cell_type": "code",
   "execution_count": 34,
   "metadata": {},
   "outputs": [],
   "source": [
    "s1_image = ee.ImageCollection('COPERNICUS/S1_GRD')\\\n",
    "            .filterDate('2020-06-01', '2020-10-01')\\\n",
    "            .filter(ee.Filter.listContains('transmitterReceiverPolarisation', 'VV'))\\\n",
    "            .filter(ee.Filter.listContains('transmitterReceiverPolarisation', 'VH'))\\\n",
    "            .filter(ee.Filter.eq('instrumentMode', 'IW'))\\\n",
    "            .filter(ee.Filter.eq('orbitProperties_pass', 'DESCENDING'))\\\n",
    "            .select('VH').mean()\n"
   ]
  },
  {
   "attachments": {},
   "cell_type": "markdown",
   "metadata": {},
   "source": [
    "#### Sentinel-2 Images (Red-Edge) (20m)"
   ]
  },
  {
   "cell_type": "code",
   "execution_count": 35,
   "metadata": {},
   "outputs": [],
   "source": [
    "sentinel_image_2022 = ee.ImageCollection\n",
    "\n",
    "sentinel_image_2021 = ee.ImageCollection\n",
    "\n",
    "sentinel_image_2020 = ee.ImageCollection\n",
    "\n",
    "sentinel_image_2019 = ee.ImageCollection\n",
    "\n",
    "sentinel_image_2018 = ee.ImageCollection"
   ]
  },
  {
   "attachments": {},
   "cell_type": "markdown",
   "metadata": {},
   "source": [
    "#### Download the Reference images"
   ]
  },
  {
   "cell_type": "code",
   "execution_count": 36,
   "metadata": {},
   "outputs": [
    {
     "name": "stdout",
     "output_type": "stream",
     "text": [
      "Done:  19\n",
      "Done:  18\n",
      "Done:  16\n",
      "Done:  07\n",
      "Done:  01Done: \n",
      " 00\n",
      "Done:  12\n",
      "Done:  10\n",
      "Done:  15\n",
      "Done:  02\n",
      "Done:  05\n",
      "Done:  09\n",
      "Done:  22Done: \n",
      " 21\n",
      "Done:  23\n",
      "Done: Done:   0424\n",
      "\n",
      "Done:  17\n",
      "Done:  14\n",
      "Done:  03\n",
      "Done: Done:   1308\n",
      "\n",
      "Done:  27\n",
      "Done:  25\n",
      "Done:  31\n",
      "Done:  26\n",
      "Done:  37\n",
      "Done:  32\n",
      "Done:  41\n",
      "Done:  29\n",
      "Done:  33\n",
      "Done:  28\n",
      "Done:  40\n",
      "Done:  43\n",
      "Done:  36\n",
      "Done:  Done: 38 \n",
      "35\n",
      "Done:  39\n",
      "Done:  46\n",
      "Done:  30Done: \n",
      " 44\n",
      "Done:  34\n",
      "Done:  42\n",
      "Done:  45\n",
      "Done:  48\n",
      "Done:  47\n",
      "Done:  49\n",
      "Done:  06\n",
      "Done:  11\n",
      "Done:  20\n"
     ]
    }
   ],
   "source": [
    "GetImageChips(download_image=ref_image,\n",
    "              out_resolution=5,\n",
    "              points=points,\n",
    "              out_dir='/maps/fnb25/teste',\n",
    "              sulfix='_ref')"
   ]
  },
  {
   "attachments": {},
   "cell_type": "markdown",
   "metadata": {},
   "source": [
    "#### Download Planet images"
   ]
  },
  {
   "cell_type": "code",
   "execution_count": 37,
   "metadata": {},
   "outputs": [
    {
     "name": "stdout",
     "output_type": "stream",
     "text": [
      "Done:  17\n",
      "Done:  10\n",
      "Done:  00\n",
      "Done:  18\n",
      "Done:  23\n",
      "Done:  12\n",
      "Done:  16\n",
      "Done:  13\n",
      "Done:  08\n",
      "Done:  24\n",
      "Done:  02\n",
      "Done:  19\n",
      "Done:  11\n",
      "Done:  21\n",
      "Done:  05\n",
      "Done:  06\n",
      "Done:  07\n",
      "Done:  03\n",
      "Done:  20\n",
      "Done:  09\n",
      "Done:  22\n",
      "Done:  15\n",
      "Done:  04\n",
      "Done:  14\n",
      "Done:  01\n",
      "Done:  31\n",
      "Done:  28\n",
      "Done:  26\n",
      "Done:  27\n",
      "Done:  32\n",
      "Done:  34\n",
      "Done:  29\n",
      "Done:  25\n",
      "Done:  38\n",
      "Done:  40\n",
      "Done:  35\n",
      "Done:  39\n",
      "Done:  45\n",
      "Done:  48\n",
      "Done:  33\n",
      "Done:  30\n",
      "Done:  41\n",
      "Done:  47\n",
      "Done:  46\n",
      "Done:  44\n",
      "Done:  37\n",
      "Done:  42\n",
      "Done:  49\n",
      "Done:  43\n",
      "Done:  36\n"
     ]
    }
   ],
   "source": [
    "GetImageChips(download_image=planet_image,\n",
    "              out_resolution=5,\n",
    "              points=points,\n",
    "              out_dir='/maps/fnb25/planet',\n",
    "              sulfix='_planet')"
   ]
  },
  {
   "attachments": {},
   "cell_type": "markdown",
   "metadata": {},
   "source": [
    "#### Download Sentinel-1 images"
   ]
  },
  {
   "cell_type": "code",
   "execution_count": 38,
   "metadata": {},
   "outputs": [
    {
     "name": "stdout",
     "output_type": "stream",
     "text": [
      "Done:  04\n",
      "Done:  07\n",
      "Done: Done:   09\n",
      "00\n",
      "Done:  05\n",
      "Done:  03\n",
      "Done:  02\n",
      "Done:  10\n",
      "Done:  11\n",
      "Done:  17\n",
      "Done:  01\n",
      "Done: Done:  16 \n",
      "18\n",
      "Done:  19\n",
      "Done:  14\n",
      "Done:  06\n",
      "Done:  23\n",
      "Done:  15\n",
      "Done:  22\n",
      "Done:  13\n",
      "Done:  21\n",
      "Done:  08\n",
      "Done:  24\n",
      "Done:  12\n",
      "Done:  26\n",
      "Done:  31\n",
      "Done:  25\n",
      "Done:  37\n",
      "Done:  28\n",
      "Done:  29\n",
      "Done:  34\n",
      "Done:  38\n",
      "Done:  35\n",
      "Done:  36\n",
      "Done:  40\n",
      "Done:  44\n",
      "Done:  43\n",
      "Done:  41\n",
      "Done:  45\n",
      "Done:  32\n",
      "Done:  39\n",
      "Done:  27\n",
      "Done:  30\n",
      "Done:  33\n",
      "Done:  47\n",
      "Done:  46\n",
      "Done:  42\n",
      "Done:  48\n",
      "Done:  49\n",
      "Done:  20\n"
     ]
    }
   ],
   "source": [
    "GetImageChips(download_image=s1_image,\n",
    "              out_resolution=10,\n",
    "              points=points,\n",
    "              out_dir='/maps/fnb25/s1',\n",
    "              sulfix='_s1')"
   ]
  },
  {
   "cell_type": "code",
   "execution_count": null,
   "metadata": {},
   "outputs": [],
   "source": []
  }
 ],
 "metadata": {
  "kernelspec": {
   "display_name": "mres_env",
   "language": "python",
   "name": "python3"
  },
  "language_info": {
   "codemirror_mode": {
    "name": "ipython",
    "version": 3
   },
   "file_extension": ".py",
   "mimetype": "text/x-python",
   "name": "python",
   "nbconvert_exporter": "python",
   "pygments_lexer": "ipython3",
   "version": "3.11.3"
  },
  "orig_nbformat": 4
 },
 "nbformat": 4,
 "nbformat_minor": 2
}
