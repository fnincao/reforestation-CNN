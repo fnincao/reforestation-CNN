{
 "cells": [
  {
   "cell_type": "markdown",
   "metadata": {},
   "source": [
    "## 1 - Download image chips from Google Earth Engine\n",
    "\n",
    "This notebook represents the initial step in the application of a methodology for identifying reforestation projects in the Brazilian Atlantic Rainforest. Developed by Felipe Begliomini as part of his MRes dissertation for the AI4ER program at the University of Cambridge, this notebook serves as the foundation for the project.\n",
    "\n",
    "The primary objective of this notebook is to provide the necessary steps for downloading image chips from Google Earth Engine. The data will be used to train a U-Net model, enabling the identification of reforestation projects within the Brazilian Atlantic Rainforest. Inspiration for this notebook was drawn from two key sources: [Fast(er) Downloads](https://gorelick.medium.com/fast-er-downloads-a2abd512aa26) and the [geemap notebook](https://geemap.org/notebooks/96_image_chips/).\n",
    "\n",
    "#### Import files"
   ]
  },
  {
   "cell_type": "code",
   "execution_count": null,
   "metadata": {},
   "outputs": [],
   "source": [
    "import ee\n",
    "from src.data.tools.download_gee import GetImageChips\n",
    "from src.data.tools.rename_image import rename_chips\n",
    "import geemap"
   ]
  },
  {
   "cell_type": "markdown",
   "metadata": {},
   "source": [
    "#### Authenticate and Initialize GEE to use the high-volume endpoint\n",
    "\n",
    "- [high-volume endpoint](https://developers.google.com/earth-engine/cloud/highvolume)"
   ]
  },
  {
   "cell_type": "code",
   "execution_count": null,
   "metadata": {},
   "outputs": [],
   "source": [
    "# Uncoment the next line if you need to authinticate this device\n",
    "#ee.Authenticate()\n",
    "\n",
    "ee.Initialize(opt_url='https://earthengine-highvolume.googleapis.com')"
   ]
  },
  {
   "cell_type": "markdown",
   "metadata": {},
   "source": [
    "#### Import the field data"
   ]
  },
  {
   "cell_type": "code",
   "execution_count": null,
   "metadata": {},
   "outputs": [],
   "source": [
    "# Import the rasterized data in raster format (5m)\n",
    "ref_raster_ne = ee.Image('users/fnincao/MRes/suzano_nordeste')\n",
    "\n",
    "ref_raster_se = ee.Image('users/fnincao/MRes/final_sudeste')\n",
    "\n",
    "# Define the region of Interest\n",
    "region_ne = ref_raster_ne.geometry()\n",
    "\n",
    "region_se = ref_raster_se.geometry()"
   ]
  },
  {
   "cell_type": "markdown",
   "metadata": {},
   "source": [
    "#### Import the points that will be used to create the image chips"
   ]
  },
  {
   "cell_type": "code",
   "execution_count": null,
   "metadata": {},
   "outputs": [],
   "source": [
    "# Import the points for sample the region\n",
    "points_ne = ee.FeatureCollection('users/fnincao/MRes/sampling_final')\\\n",
    "              .filterBounds(region_ne)\n",
    "    \n",
    "points_se = ee.FeatureCollection('users/fnincao/MRes/sampling_final')\\\n",
    "              .filterBounds(region_se)\n",
    "points_se"
   ]
  },
  {
   "cell_type": "markdown",
   "metadata": {},
   "source": [
    "#### Generates the images to extract the chips\n",
    "\n",
    "##### Reference Image"
   ]
  },
  {
   "cell_type": "code",
   "execution_count": null,
   "metadata": {},
   "outputs": [],
   "source": [
    "# Convert the reference image to a binary mask\n",
    "ref_image_ne = ref_raster_ne\\\n",
    "        .where(ref_raster_ne.gt(0), 1)\\\n",
    "        .unmask(0)\\\n",
    "        .toInt()\n",
    "\n",
    "ref_image_se = ref_raster_se\\\n",
    "        .where(ref_raster_se.gt(0), 1)\\\n",
    "        .unmask(0)\\\n",
    "        .toInt()"
   ]
  },
  {
   "cell_type": "markdown",
   "metadata": {},
   "source": [
    "##### Planet Image (NIR / RED / GREEN) (5m)"
   ]
  },
  {
   "cell_type": "code",
   "execution_count": null,
   "metadata": {},
   "outputs": [],
   "source": [
    "# Create a composite from Planet basemap from 2020\n",
    "planet_image =  ee.ImageCollection(\"projects/planet-nicfi/assets/basemaps/americas\")\\\n",
    "            .filterDate('2020-01-01','2020-12-31')\\\n",
    "            .median()\\\n",
    "            .select('R','G','B','N')\n",
    "\n",
    "planet_image"
   ]
  },
  {
   "cell_type": "markdown",
   "metadata": {},
   "source": [
    "##### Planet temporal NDVI image (2016 / 2018 / 2020) (5M)"
   ]
  },
  {
   "cell_type": "code",
   "execution_count": null,
   "metadata": {},
   "outputs": [],
   "source": [
    "def addNDVI(image):\n",
    "    ndvi = image.normalizedDifference(['N', 'R']).rename('NDVI')\n",
    "    return image.addBands(ndvi);\n",
    "\n",
    "\n",
    "# Create a composite from Planet red bands from 2016-2020\n",
    "planet_red_2016 =  ee.ImageCollection(\"projects/planet-nicfi/assets/basemaps/americas\")\\\n",
    "                     .filterDate('2016-01-01', '2016-12-31')\\\n",
    "                     .select(['N','R'])\\\n",
    "                     .map(addNDVI)\\\n",
    "                     .median()\\\n",
    "                     .select('NDVI')\n",
    "\n",
    "planet_red_2017 =  ee.ImageCollection(\"projects/planet-nicfi/assets/basemaps/americas\")\\\n",
    "                     .filterDate('2017-01-01', '2017-12-31')\\\n",
    "                     .select(['N','R'])\\\n",
    "                     .median()\n",
    "            \n",
    "planet_red_2018 =  ee.ImageCollection(\"projects/planet-nicfi/assets/basemaps/americas\")\\\n",
    "                     .filterDate('2018-01-01', '2018-12-31')\\\n",
    "                     .select(['N','R'])\\\n",
    "                     .map(addNDVI)\\\n",
    "                     .median()\\\n",
    "                     .select('NDVI')\n",
    "\n",
    "planet_red_2019 =  ee.ImageCollection(\"projects/planet-nicfi/assets/basemaps/americas\")\\\n",
    "                     .filterDate('2019-01-01', '2019-12-31')\\\n",
    "                     .select(['N','R'])\\\n",
    "                     .map(addNDVI)\\\n",
    "                     .median()\\\n",
    "                     .select('NDVI')\n",
    "\n",
    "planet_red_2020 = ee.ImageCollection(\"projects/planet-nicfi/assets/basemaps/americas\")\\\n",
    "                    .filterDate('2020-01-01', '2020-12-31')\\\n",
    "                    .select(['N','R'])\\\n",
    "                    .map(addNDVI)\\\n",
    "                    .median()\\\n",
    "                    .select('NDVI')\n",
    "           \n",
    "mosaic_planet_red = planet_red_2016.addBands([planet_red_2018,\n",
    "                                              planet_red_2020])"
   ]
  },
  {
   "cell_type": "markdown",
   "metadata": {},
   "source": [
    "##### Sentinel-1 Images (Band-C VH) (10m)"
   ]
  },
  {
   "cell_type": "code",
   "execution_count": null,
   "metadata": {},
   "outputs": [],
   "source": [
    "s1_vh_2016 = ee.ImageCollection('COPERNICUS/S1_GRD')\\\n",
    "            .filterDate('2016-01-01', '2016-12-31')\\\n",
    "            .filter(ee.Filter.listContains('transmitterReceiverPolarisation', 'VV'))\\\n",
    "            .filter(ee.Filter.listContains('transmitterReceiverPolarisation', 'VH'))\\\n",
    "            .filter(ee.Filter.eq('instrumentMode', 'IW'))\\\n",
    "            .filter(ee.Filter.eq('orbitProperties_pass', 'DESCENDING'))\\\n",
    "            .select('VH').median()\n",
    "\n",
    "s1_vh_2017 = ee.ImageCollection('COPERNICUS/S1_GRD')\\\n",
    "            .filterDate('2017-01-01', '2017-12-31')\\\n",
    "            .filter(ee.Filter.listContains('transmitterReceiverPolarisation', 'VV'))\\\n",
    "            .filter(ee.Filter.listContains('transmitterReceiverPolarisation', 'VH'))\\\n",
    "            .filter(ee.Filter.eq('instrumentMode', 'IW'))\\\n",
    "            .filter(ee.Filter.eq('orbitProperties_pass', 'DESCENDING'))\\\n",
    "            .select('VH').median()\n",
    "\n",
    "s1_vh_2018 = ee.ImageCollection('COPERNICUS/S1_GRD')\\\n",
    "            .filterDate('2018-01-01', '2018-12-31')\\\n",
    "            .filter(ee.Filter.listContains('transmitterReceiverPolarisation', 'VV'))\\\n",
    "            .filter(ee.Filter.listContains('transmitterReceiverPolarisation', 'VH'))\\\n",
    "            .filter(ee.Filter.eq('instrumentMode', 'IW'))\\\n",
    "            .filter(ee.Filter.eq('orbitProperties_pass', 'DESCENDING'))\\\n",
    "            .select('VH').median()\n",
    "\n",
    "s1_vh_2019 = ee.ImageCollection('COPERNICUS/S1_GRD')\\\n",
    "            .filterDate('2019-01-01', '2019-12-31')\\\n",
    "            .filter(ee.Filter.listContains('transmitterReceiverPolarisation', 'VV'))\\\n",
    "            .filter(ee.Filter.listContains('transmitterReceiverPolarisation', 'VH'))\\\n",
    "            .filter(ee.Filter.eq('instrumentMode', 'IW'))\\\n",
    "            .filter(ee.Filter.eq('orbitProperties_pass', 'DESCENDING'))\\\n",
    "            .select('VH').median()\n",
    "\n",
    "s1_vh_2020 = ee.ImageCollection('COPERNICUS/S1_GRD')\\\n",
    "            .filterDate('2020-01-01', '2020-12-31')\\\n",
    "            .filter(ee.Filter.listContains('transmitterReceiverPolarisation', 'VV'))\\\n",
    "            .filter(ee.Filter.listContains('transmitterReceiverPolarisation', 'VH'))\\\n",
    "            .filter(ee.Filter.eq('instrumentMode', 'IW'))\\\n",
    "            .filter(ee.Filter.eq('orbitProperties_pass', 'DESCENDING'))\\\n",
    "            .select('VH').median()\n",
    "\n",
    "mosaic_s1_vh = s1_vh_2016.addBands([s1_vh_2018,\n",
    "                                    s1_vh_2020])\n"
   ]
  },
  {
   "cell_type": "markdown",
   "metadata": {},
   "source": [
    "##### Sentinel-2 Images (Red-Edge) (20m)"
   ]
  },
  {
   "cell_type": "code",
   "execution_count": null,
   "metadata": {},
   "outputs": [],
   "source": [
    "sentinel_image_2022 = ee.ImageCollection('COPERNICUS/S2_SR') \\\n",
    "                        .filterDate('2022-05-01', '2022-09-01') \\\n",
    "                        .select('B5') \\\n",
    "                        .median() \n",
    "                   \n",
    "\n",
    "sentinel_image_2021 = ee.ImageCollection('COPERNICUS/S2_SR') \\\n",
    "                        .filterDate('2021-05-01', '2021-09-01') \\\n",
    "                        .select('B5') \\\n",
    "                        .median()\n",
    "\n",
    "sentinel_image_2020 = ee.ImageCollection('COPERNICUS/S2_SR') \\\n",
    "                        .filterDate('2020-05-01', '2020-09-01') \\\n",
    "                        .select('B5') \\\n",
    "                        .median()\n",
    "\n",
    "sentinel_image = sentinel_image_2020.addBands([sentinel_image_2021,\n",
    "                                               sentinel_image_2022])"
   ]
  },
  {
   "cell_type": "markdown",
   "metadata": {},
   "source": [
    "##### ALOS/PALSAR-2 Images (Band-L HV) (25m)"
   ]
  },
  {
   "cell_type": "code",
   "execution_count": null,
   "metadata": {},
   "outputs": [],
   "source": [
    "palsar_hv_2016 = ee.ImageCollection('JAXA/ALOS/PALSAR/YEARLY/SAR')\\\n",
    "                  .filter(ee.Filter.date('2016-01-01', '2016-12-31'))\\\n",
    "                  .select('HV')\\\n",
    "                  .first()\n",
    "\n",
    "palsar_hv_2017 = ee.ImageCollection('JAXA/ALOS/PALSAR/YEARLY/SAR')\\\n",
    "                  .filter(ee.Filter.date('2017-01-01', '2017-12-31'))\\\n",
    "                  .select('HV')\\\n",
    "                  .first()\n",
    "\n",
    "\n",
    "palsar_hv_2018 = ee.ImageCollection('JAXA/ALOS/PALSAR/YEARLY/SAR')\\\n",
    "                  .filter(ee.Filter.date('2018-01-01', '2018-12-31'))\\\n",
    "                  .select('HV')\\\n",
    "                  .first()\n",
    "\n",
    "palsar_hv_2019 = ee.ImageCollection('JAXA/ALOS/PALSAR/YEARLY/SAR')\\\n",
    "                   .filter(ee.Filter.date('2019-01-01', '2019-12-31'))\\\n",
    "                   .select('HV')\\\n",
    "                   .first()\n",
    "\n",
    "\n",
    "palsar_hv_2020 = ee.ImageCollection('JAXA/ALOS/PALSAR/YEARLY/SAR')\\\n",
    "                   .filter(ee.Filter.date('2020-01-01', '2020-12-31'))\\\n",
    "                   .select('HV')\\\n",
    "                   .first()\n",
    "\n",
    "mosaic_palsar_hv = palsar_hv_2016.addBands([palsar_hv_2018,\n",
    "                                            palsar_hv_2020])"
   ]
  },
  {
   "cell_type": "markdown",
   "metadata": {},
   "source": [
    "#### Download the Reference images"
   ]
  },
  {
   "cell_type": "code",
   "execution_count": null,
   "metadata": {},
   "outputs": [],
   "source": [
    "%%time\n",
    "GetImageChips(download_image=ref_image_ne,\n",
    "              out_resolution=5,\n",
    "              points=points_ne,\n",
    "              out_dir='../data/gee_data',\n",
    "              sulfix='_ref_ne')"
   ]
  },
  {
   "cell_type": "code",
   "execution_count": null,
   "metadata": {},
   "outputs": [],
   "source": [
    "%%time\n",
    "GetImageChips(download_image=ref_image_se,\n",
    "              out_resolution=5,\n",
    "              points=points_se,\n",
    "              out_dir='../data/gee_data',\n",
    "              sulfix='_ref')"
   ]
  },
  {
   "cell_type": "markdown",
   "metadata": {},
   "source": [
    "#### Download Planet images"
   ]
  },
  {
   "cell_type": "code",
   "execution_count": null,
   "metadata": {},
   "outputs": [],
   "source": [
    "%%time\n",
    "GetImageChips(download_image=planet_image,\n",
    "              out_resolution=5,\n",
    "              points=points_ne,\n",
    "              out_dir='../data/gee_data',\n",
    "              sulfix='_planet_ne')"
   ]
  },
  {
   "cell_type": "code",
   "execution_count": null,
   "metadata": {},
   "outputs": [],
   "source": [
    "%%time\n",
    "GetImageChips(download_image=planet_image,\n",
    "              out_resolution=5,\n",
    "              points=points_se,\n",
    "              out_dir='../data/gee_data',\n",
    "              sulfix='_planet')"
   ]
  },
  {
   "cell_type": "markdown",
   "metadata": {},
   "source": [
    "#### Download Planet NDVI temporal images"
   ]
  },
  {
   "cell_type": "code",
   "execution_count": null,
   "metadata": {},
   "outputs": [],
   "source": [
    "%%time\n",
    "GetImageChips(download_image=mosaic_planet_red,\n",
    "              out_resolution=5,\n",
    "              points=points_ne,\n",
    "              out_dir='../data/gee_data',\n",
    "              sulfix='_ndvi_ne')"
   ]
  },
  {
   "cell_type": "code",
   "execution_count": null,
   "metadata": {},
   "outputs": [],
   "source": [
    "%%time\n",
    "GetImageChips(download_image=mosaic_planet_red,\n",
    "              out_resolution=5,\n",
    "              points=points_se,\n",
    "              out_dir='../data/gee_data',\n",
    "              sulfix='_ndvi')"
   ]
  },
  {
   "cell_type": "markdown",
   "metadata": {},
   "source": [
    "#### Download Sentinel-1 images"
   ]
  },
  {
   "cell_type": "code",
   "execution_count": null,
   "metadata": {},
   "outputs": [],
   "source": [
    "%%time\n",
    "GetImageChips(download_image=mosaic_s1_vh,\n",
    "              out_resolution=10,\n",
    "              points=points_ne,\n",
    "              out_dir='../data/gee_data',\n",
    "              sulfix='_s1_ne')"
   ]
  },
  {
   "cell_type": "code",
   "execution_count": null,
   "metadata": {},
   "outputs": [],
   "source": [
    "%%time\n",
    "GetImageChips(download_image=mosaic_s1_vh,\n",
    "              out_resolution=10,\n",
    "              points=points_se,\n",
    "              out_dir='../data/gee_data',\n",
    "              sulfix='_s1')"
   ]
  },
  {
   "cell_type": "markdown",
   "metadata": {},
   "source": [
    "#### Download Sentinel-2 images"
   ]
  },
  {
   "cell_type": "code",
   "execution_count": null,
   "metadata": {},
   "outputs": [],
   "source": [
    "'''%%time\n",
    "GetImageChips(download_image=sentinel_image,\n",
    "              out_resolution=20,\n",
    "              points=points,\n",
    "              out_dir='../data/gee_data',\n",
    "              sulfix='_s2'''"
   ]
  },
  {
   "cell_type": "markdown",
   "metadata": {},
   "source": [
    "#### Download ALOS/PALSAR-2 images"
   ]
  },
  {
   "cell_type": "code",
   "execution_count": null,
   "metadata": {},
   "outputs": [],
   "source": [
    "%%time\n",
    "GetImageChips(download_image=mosaic_palsar_hv,\n",
    "              out_resolution=20,\n",
    "              points=points_ne,\n",
    "              out_dir='../data/gee_data',\n",
    "              sulfix='_palsar_ne')"
   ]
  },
  {
   "cell_type": "code",
   "execution_count": null,
   "metadata": {},
   "outputs": [],
   "source": [
    "%%time\n",
    "GetImageChips(download_image=mosaic_palsar_hv,\n",
    "              out_resolution=20,\n",
    "              points=points_se,\n",
    "              out_dir='../data/gee_data',\n",
    "              sulfix='_palsar')"
   ]
  },
  {
   "cell_type": "markdown",
   "metadata": {},
   "source": [
    "#### Rename Images with different string"
   ]
  },
  {
   "cell_type": "code",
   "execution_count": null,
   "metadata": {},
   "outputs": [],
   "source": [
    "rename_chips(sensor='ref')\n",
    "rename_chips(sensor='planet')\n",
    "rename_chips(sensor='ndvi')\n",
    "rename_chips(sensor='s1')\n",
    "rename_chips(sensor='palsar')"
   ]
  },
  {
   "cell_type": "code",
   "execution_count": null,
   "metadata": {},
   "outputs": [],
   "source": []
  }
 ],
 "metadata": {
  "kernelspec": {
   "display_name": "Reforest",
   "language": "python",
   "name": "reforest"
  },
  "language_info": {
   "codemirror_mode": {
    "name": "ipython",
    "version": 3
   },
   "file_extension": ".py",
   "mimetype": "text/x-python",
   "name": "python",
   "nbconvert_exporter": "python",
   "pygments_lexer": "ipython3",
   "version": "3.11.4"
  }
 },
 "nbformat": 4,
 "nbformat_minor": 4
}
