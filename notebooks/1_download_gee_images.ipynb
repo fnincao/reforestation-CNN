{
 "cells": [
  {
   "cell_type": "markdown",
   "metadata": {},
   "source": [
    "## 1 - Download image chips from Google Earth Engine\n",
    "\n",
    "This notebook represents the initial step in the application of a methodology for identifying reforestation projects in the Brazilian Atlantic Rainforest. Developed by Felipe Begliomini as part of his MRes dissertation for the AI4ER program at the University of Cambridge, this notebook serves as the foundation for the project.\n",
    "\n",
    "The primary objective of this notebook is to provide the necessary steps for downloading image chips from Google Earth Engine. The data will be used to train a U-Net model, enabling the identification of reforestation projects within the Brazilian Atlantic Rainforest. Inspiration for this notebook was drawn from two key sources: [Fast(er) Downloads](https://gorelick.medium.com/fast-er-downloads-a2abd512aa26) and the [geemap notebook](https://geemap.org/notebooks/96_image_chips/).\n",
    "\n",
    "#### Import files"
   ]
  },
  {
   "cell_type": "code",
   "execution_count": null,
   "metadata": {},
   "outputs": [],
   "source": [
    "# Run this if you are running at Google colab or other internet-based env\n",
    "!pip install earthengine-api\n",
    "!pip install geemap\n",
    "!pip install retry"
   ]
  },
  {
   "cell_type": "code",
   "execution_count": null,
   "metadata": {},
   "outputs": [],
   "source": [
    "import ee\n",
    "from src.data.tools.download_gee import GetImageChips\n",
    "import geemap"
   ]
  },
  {
   "cell_type": "markdown",
   "metadata": {},
   "source": [
    "#### Authenticate and Initialize GEE to use the high-volume endpoint\n",
    "\n",
    "- [high-volume endpoint](https://developers.google.com/earth-engine/cloud/highvolume)"
   ]
  },
  {
   "cell_type": "code",
   "execution_count": null,
   "metadata": {},
   "outputs": [],
   "source": [
    "# Uncoment the next line if you need to authinticate this device\n",
    "#ee.Authenticate()\n",
    "\n",
    "ee.Initialize(opt_url='https://earthengine-highvolume.googleapis.com')"
   ]
  },
  {
   "cell_type": "markdown",
   "metadata": {},
   "source": [
    "#### Import the field data"
   ]
  },
  {
   "cell_type": "code",
   "execution_count": null,
   "metadata": {},
   "outputs": [],
   "source": [
    "# Import the rasterized data in raster format (5m)\n",
    "ref_raster = ee.Image('users/fnincao/MRes/sudeste_data')\n",
    "\n",
    "# Importe the reference data in poly format\n",
    "ref_vector = ee.FeatureCollection('users/fnincao/MRes/polygons')\n",
    "\n",
    "# Define the region of Interest\n",
    "region = ref_raster.geometry()"
   ]
  },
  {
   "cell_type": "markdown",
   "metadata": {},
   "source": [
    "#### Import the points that will be used to create the image chips"
   ]
  },
  {
   "cell_type": "code",
   "execution_count": null,
   "metadata": {},
   "outputs": [],
   "source": [
    "# Import the points for sample the region\n",
    "points = ee.FeatureCollection('users/fnincao/MRes/points')\\\n",
    "           .filterBounds(region).limit(100)\n",
    "    \n",
    "points"
   ]
  },
  {
   "cell_type": "markdown",
   "metadata": {},
   "source": [
    "#### Generates the images to extract the chips\n",
    "\n",
    "##### Reference Image"
   ]
  },
  {
   "cell_type": "code",
   "execution_count": null,
   "metadata": {},
   "outputs": [],
   "source": [
    "# Convert the reference image to a binary mask\n",
    "ref_image = ref_raster\\\n",
    "        .where(ref_raster.gt(0), 1)\\\n",
    "        .unmask(0)\\\n",
    "        .toInt()"
   ]
  },
  {
   "cell_type": "markdown",
   "metadata": {},
   "source": [
    "##### Planet Image (NIR / RED / GREEN) (5m)"
   ]
  },
  {
   "cell_type": "code",
   "execution_count": null,
   "metadata": {},
   "outputs": [],
   "source": [
    "# Create a composite from Planet basemap from Jan-Apr 2023\n",
    "planet_image =  ee.ImageCollection(\"projects/planet-nicfi/assets/basemaps/americas\")\\\n",
    "            .filterDate('2023-01-01','2023-04-01')\\\n",
    "            .median()\\\n",
    "            .select('N','R','G')\n"
   ]
  },
  {
   "cell_type": "markdown",
   "metadata": {},
   "source": [
    "#### Sentinel-1 Images (Band-C VV and VH) (10m)"
   ]
  },
  {
   "cell_type": "code",
   "execution_count": null,
   "metadata": {},
   "outputs": [],
   "source": [
    "s1_image = ee.ImageCollection('COPERNICUS/S1_GRD')\\\n",
    "            .filterDate('2020-06-01', '2020-10-01')\\\n",
    "            .filter(ee.Filter.listContains('transmitterReceiverPolarisation', 'VV'))\\\n",
    "            .filter(ee.Filter.listContains('transmitterReceiverPolarisation', 'VH'))\\\n",
    "            .filter(ee.Filter.eq('instrumentMode', 'IW'))\\\n",
    "            .filter(ee.Filter.eq('orbitProperties_pass', 'DESCENDING'))\\\n",
    "            .select('VH').mean()\n"
   ]
  },
  {
   "cell_type": "markdown",
   "metadata": {},
   "source": [
    "#### Sentinel-2 Images (Red-Edge) (20m)"
   ]
  },
  {
   "cell_type": "code",
   "execution_count": null,
   "metadata": {},
   "outputs": [],
   "source": [
    "sentinel_image_2022 = ee.ImageCollection('COPERNICUS/S2_SR') \\\n",
    "                        .filterBounds(region) \\\n",
    "                        .filterDate('2022-05-01', '2022-09-01') \\\n",
    "                        .select('B5') \\\n",
    "                        .median() \n",
    "                   \n",
    "\n",
    "sentinel_image_2021 = ee.ImageCollection('COPERNICUS/S2_SR') \\\n",
    "                        .filterBounds(region) \\\n",
    "                        .filterDate('2021-05-01', '2021-09-01') \\\n",
    "                        .select('B5') \\\n",
    "                        .median()\n",
    "\n",
    "sentinel_image_2020 = ee.ImageCollection('COPERNICUS/S2_SR') \\\n",
    "                        .filterBounds(region) \\\n",
    "                        .filterDate('2020-05-01', '2020-09-01') \\\n",
    "                        .select('B5') \\\n",
    "                        .median()\n",
    "\n",
    "sentinel_image = sentinel_image_2020.addBands([sentinel_image_2021,\n",
    "                                               sentinel_image_2022])"
   ]
  },
  {
   "cell_type": "markdown",
   "metadata": {},
   "source": [
    "#### Download the Reference images"
   ]
  },
  {
   "cell_type": "code",
   "execution_count": null,
   "metadata": {},
   "outputs": [],
   "source": [
    "%%time\n",
    "GetImageChips(download_image=ref_image,\n",
    "              out_resolution=5,\n",
    "              points=points,\n",
    "              out_dir='../data/gee_data',\n",
    "              sulfix='_ref')"
   ]
  },
  {
   "cell_type": "markdown",
   "metadata": {},
   "source": [
    "#### Download Planet images"
   ]
  },
  {
   "cell_type": "code",
   "execution_count": null,
   "metadata": {},
   "outputs": [],
   "source": [
    "%%time\n",
    "GetImageChips(download_image=planet_image,\n",
    "              out_resolution=5,\n",
    "              points=points,\n",
    "              out_dir='../data/gee_data',\n",
    "              sulfix='_planet')"
   ]
  },
  {
   "cell_type": "markdown",
   "metadata": {},
   "source": [
    "#### Download Sentinel-1 images"
   ]
  },
  {
   "cell_type": "code",
   "execution_count": null,
   "metadata": {},
   "outputs": [],
   "source": [
    "%%time\n",
    "GetImageChips(download_image=s1_image,\n",
    "              out_resolution=5,\n",
    "              points=points,\n",
    "              out_dir='../data/gee_data',\n",
    "              sulfix='_s1')"
   ]
  },
  {
   "cell_type": "markdown",
   "metadata": {},
   "source": [
    "#### Download Sentinel-2 images"
   ]
  },
  {
   "cell_type": "code",
   "execution_count": null,
   "metadata": {},
   "outputs": [],
   "source": [
    "%%time\n",
    "GetImageChips(download_image=sentinel_image,\n",
    "              out_resolution=5,\n",
    "              points=points,\n",
    "              out_dir='../data/gee_data',\n",
    "              sulfix='_s2')"
   ]
  }
 ],
 "metadata": {
  "kernelspec": {
   "display_name": "Python 3 (ipykernel)",
   "language": "python",
   "name": "python3"
  },
  "language_info": {
   "codemirror_mode": {
    "name": "ipython",
    "version": 3
   },
   "file_extension": ".py",
   "mimetype": "text/x-python",
   "name": "python",
   "nbconvert_exporter": "python",
   "pygments_lexer": "ipython3",
   "version": "3.8.12"
  }
 },
 "nbformat": 4,
 "nbformat_minor": 4
}
