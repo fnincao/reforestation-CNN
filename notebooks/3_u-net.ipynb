{
 "cells": [
  {
   "cell_type": "code",
   "execution_count": 24,
   "id": "b54cedf2",
   "metadata": {},
   "outputs": [],
   "source": [
    "from src.model_fusion.model import UNET\n",
    "from src.model_fusion.dataset import RSDataset\n",
    "from src.model.dataset import PlanetDataset\n",
    "from torch.utils.data import DataLoader\n",
    "import torch"
   ]
  },
  {
   "cell_type": "code",
   "execution_count": 8,
   "id": "f161ffb6",
   "metadata": {},
   "outputs": [],
   "source": [
    "DEVICE = 'cuda' if torch.cuda.is_available() else 'cpu'\n",
    "BATCH_SIZE = 16\n",
    "NUM_WORKERS = 2\n",
    "PIN_MEMORY = True\n",
    "LOAD_MODEL = False\n",
    "IMG_DIR = '../data/ai_data/val_images/'\n",
    "MASK_DIR = '../data/ai_data/val_masks/'"
   ]
  },
  {
   "cell_type": "code",
   "execution_count": 10,
   "id": "7986ff51",
   "metadata": {},
   "outputs": [],
   "source": [
    "ds = RSDataset(\n",
    "    image_dir=IMG_DIR,\n",
    "    mask_dir=MASK_DIR,\n",
    "    transform=False)\n",
    "\n",
    "\n",
    "loader = DataLoader(\n",
    "    ds,\n",
    "    batch_size=BATCH_SIZE,\n",
    "    num_workers=NUM_WORKERS,\n",
    "    pin_memory=PIN_MEMORY,\n",
    "    shuffle=False)"
   ]
  },
  {
   "cell_type": "code",
   "execution_count": 26,
   "id": "af873e8d",
   "metadata": {},
   "outputs": [],
   "source": [
    "rgb_images = PlanetDataset(\n",
    "             image_dir=IMG_DIR,\n",
    "             mask_dir=MASK_DIR, \n",
    "             transform=None)"
   ]
  },
  {
   "cell_type": "code",
   "execution_count": 28,
   "id": "c18e8404",
   "metadata": {},
   "outputs": [],
   "source": [
    "model = UNET(in_channels=3, out_channels=1).to(DEVICE)\n"
   ]
  },
  {
   "cell_type": "code",
   "execution_count": null,
   "id": "f332375e",
   "metadata": {},
   "outputs": [],
   "source": [
    "with torch.no_grad():\n",
    "    for x, y, z, m in loader:\n",
    "        x = x.to(device)\n",
    "        y = y.to(device)\n",
    "        z = z.to(device)\n",
    "        m = m.to(device).unsqueeze(1)\n",
    "        preds = torch.sigmoid(model(x, y, z))\n",
    "        preds = (preds > 0.5).float()"
   ]
  }
 ],
 "metadata": {
  "kernelspec": {
   "display_name": "Reforest",
   "language": "python",
   "name": "reforest"
  },
  "language_info": {
   "codemirror_mode": {
    "name": "ipython",
    "version": 3
   },
   "file_extension": ".py",
   "mimetype": "text/x-python",
   "name": "python",
   "nbconvert_exporter": "python",
   "pygments_lexer": "ipython3",
   "version": "3.11.4"
  }
 },
 "nbformat": 4,
 "nbformat_minor": 5
}
