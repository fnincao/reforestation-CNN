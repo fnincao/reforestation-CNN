{
 "cells": [
  {
   "cell_type": "code",
   "execution_count": 1,
   "id": "9bf5391d",
   "metadata": {},
   "outputs": [],
   "source": [
    "from src.data.tools.run_model import segment_images, vis_predictions"
   ]
  },
  {
   "cell_type": "code",
   "execution_count": 5,
   "id": "f69775fe",
   "metadata": {},
   "outputs": [
    {
     "name": "stdout",
     "output_type": "stream",
     "text": [
      "CPU times: user 22.4 s, sys: 6.78 s, total: 29.1 s\n",
      "Wall time: 32.5 s\n"
     ]
    }
   ],
   "source": [
    "%%time\n",
    "rgbn_2_preds = segment_images(model_name='rgbn', roi=2,\n",
    "               img_dir='/home/jovyan/lustre_scratch/data_ne/ai_data/val_images',\n",
    "               mask_dir='/home/jovyan/lustre_scratch/data_ne/ai_data/val_masks')\n",
    "\n",
    "ndvi_2_preds = segment_images(model_name='ndvi', roi=2,\n",
    "               img_dir='/home/jovyan/lustre_scratch/data_ne/ai_data/val_images',\n",
    "               mask_dir='/home/jovyan/lustre_scratch/data_ne/ai_data/val_masks')\n",
    "\n",
    "fusion_2_preds = segment_images(model_name='fusion', roi=2,\n",
    "               img_dir='/home/jovyan/lustre_scratch/data_ne/ai_data/val_images',\n",
    "               mask_dir='/home/jovyan/lustre_scratch/data_ne/ai_data/val_masks')"
   ]
  },
  {
   "cell_type": "code",
   "execution_count": 8,
   "id": "25e47000",
   "metadata": {},
   "outputs": [
    {
     "name": "stdout",
     "output_type": "stream",
     "text": [
      "CPU times: user 3min 36s, sys: 13.7 s, total: 3min 50s\n",
      "Wall time: 3min 43s\n"
     ]
    }
   ],
   "source": [
    "%%time\n",
    "vis_predictions(preds_fusion=fusion_2_preds, preds_ndvi=ndvi_2_preds,\n",
    "                preds_rgbn=rgbn_2_preds, roi=2,\n",
    "                img_dir='/home/jovyan/lustre_scratch/data_ne/ai_data/val_images',\n",
    "                mask_dir='/home/jovyan/lustre_scratch/data_ne/ai_data/val_masks')"
   ]
  },
  {
   "cell_type": "code",
   "execution_count": 10,
   "id": "f147b153",
   "metadata": {},
   "outputs": [
    {
     "name": "stdout",
     "output_type": "stream",
     "text": [
      "CPU times: user 1min 19s, sys: 20.9 s, total: 1min 40s\n",
      "Wall time: 2min 26s\n"
     ]
    }
   ],
   "source": [
    "%%time\n",
    "rgbn_1_preds = segment_images(model_name='rgbn', roi=1)\n",
    "\n",
    "ndvi_1_preds = segment_images(model_name='ndvi', roi=1)\n",
    "\n",
    "fusion_1_preds = segment_images(model_name='fusion', roi=1)"
   ]
  },
  {
   "cell_type": "code",
   "execution_count": 11,
   "id": "3bbbf636",
   "metadata": {},
   "outputs": [
    {
     "name": "stdout",
     "output_type": "stream",
     "text": [
      "CPU times: user 13min 9s, sys: 42.3 s, total: 13min 51s\n",
      "Wall time: 13min 27s\n"
     ]
    }
   ],
   "source": [
    "%%time\n",
    "vis_predictions(preds_fusion=fusion_1_preds, preds_ndvi=ndvi_1_preds,\n",
    "                preds_rgbn=rgbn_1_preds, roi=1)"
   ]
  },
  {
   "cell_type": "code",
   "execution_count": 12,
   "id": "75d82490",
   "metadata": {},
   "outputs": [],
   "source": [
    "import zipfile\n",
    "import os\n",
    "import glob\n",
    "\n",
    "def zip_directory(directory_path, zip_path):\n",
    "    with zipfile.ZipFile(zip_path, 'w', zipfile.ZIP_DEFLATED) as zipf:\n",
    "        files = glob.glob(directory_path + '/*.png')\n",
    "        for file in files:\n",
    "            file_path = os.path.join(directory_path, file)\n",
    "            zipf.write(file_path, arcname=os.path.relpath(file_path, directory_path))\n",
    "\n",
    "# Provide the directory path and the desired zip file path\n",
    "directory_path = '/home/jovyan/lustre_scratch/reforestation-CNN/data/predictions'\n",
    "zip_path = '/home/jovyan/lustre_scratch/reforestation-CNN/data/predictions/images_roi_1.zip'\n",
    "\n",
    "# Call the function to zip the directory\n",
    "zip_directory(directory_path, zip_path)"
   ]
  },
  {
   "cell_type": "code",
   "execution_count": null,
   "id": "16616bf3",
   "metadata": {},
   "outputs": [],
   "source": []
  },
  {
   "cell_type": "code",
   "execution_count": null,
   "id": "7d3986b9",
   "metadata": {},
   "outputs": [],
   "source": []
  }
 ],
 "metadata": {
  "kernelspec": {
   "display_name": "Reforest",
   "language": "python",
   "name": "reforest"
  },
  "language_info": {
   "codemirror_mode": {
    "name": "ipython",
    "version": 3
   },
   "file_extension": ".py",
   "mimetype": "text/x-python",
   "name": "python",
   "nbconvert_exporter": "python",
   "pygments_lexer": "ipython3",
   "version": "3.11.4"
  }
 },
 "nbformat": 4,
 "nbformat_minor": 5
}
