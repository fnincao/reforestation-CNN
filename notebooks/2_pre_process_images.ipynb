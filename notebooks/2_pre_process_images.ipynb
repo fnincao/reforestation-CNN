{
 "cells": [
  {
   "cell_type": "markdown",
   "metadata": {},
   "source": [
    "## 2 - Pre-Processing of image chips before applying to AI\n",
    "\n",
    "This notebook serves as the second step in the application of a methodology for identifying reforestation projects in the Brazilian Atlantic Rainforest. The methodology was developed by Felipe Begliomini as part of his MRes dissertation for the AI4ER program at the University of Cambridge.\n",
    "\n",
    "As we are working with different platforms, each satellite's data possesses various attributes such as spatial resolution, gridding, and crs. To ensure consistency in applying the AI methodology, this notebook focuses on cropping the images downloaded in the previous notebook (1_download_gee_images.ipynb) to a standardized spatial extent.\n",
    "\n",
    "All the images will represent an area of 2000x2000 meters. The Planet and reference chips will be cropped to a final size of 400x400 pixels (5m resolution), the Sentinel-1 images will be cropped to 200x200 pixels (10m resolution), and the Sentinel-2 images will be converted to a 100x100 pixel (20m resolution) squared format. This notebook also provides a tool for visualizing the cropped images.\n",
    "\n",
    "Finally, the images are split into train and test sets to ensure unbiased evaluation and to assess the model's ability to generalize accurately.\n",
    "\n",
    "### Imports"
   ]
  },
  {
   "cell_type": "code",
   "execution_count": null,
   "metadata": {},
   "outputs": [],
   "source": [
    "from src.data.tools.crop_image import crop_ref_img\n",
    "from src.data.tools.crop_image import crop_other_img\n",
    "from src.data.tools import vis\n",
    "from src.data.tools.train_test_split import train_test_split"
   ]
  },
  {
   "cell_type": "markdown",
   "metadata": {},
   "source": [
    "### Crop the reference data \n",
    "\n",
    "This image will be used to define the spatial extent to crop other images. First, we identify the center pixel, and from there we define the size of the image (400x400)."
   ]
  },
  {
   "cell_type": "code",
   "execution_count": null,
   "metadata": {},
   "outputs": [],
   "source": [
    "%%time\n",
    "crop_ref_img(path='../data/gee_data',\n",
    "             out_dir='../data/croped_data')"
   ]
  },
  {
   "cell_type": "markdown",
   "metadata": {},
   "source": [
    "### Crop the Planet Imagery\n",
    "\n",
    "The image chips will be cropped based on the bbox from the reference data. The final output will have 400x400 pixels and 5m spatial resolution."
   ]
  },
  {
   "cell_type": "code",
   "execution_count": null,
   "metadata": {},
   "outputs": [],
   "source": [
    "%%time\n",
    "crop_other_img(sensor = 'planet',\n",
    "               to_crop_path='../data/gee_data',\n",
    "               out_dir='../data/croped_data',\n",
    "               ref_path='../data/croped_data')"
   ]
  },
  {
   "cell_type": "code",
   "execution_count": null,
   "metadata": {},
   "outputs": [],
   "source": [
    "%%time\n",
    "crop_other_img(sensor = 'red',\n",
    "               to_crop_path='../data/gee_data',\n",
    "               out_dir='../data/croped_data',\n",
    "               ref_path='../data/croped_data')"
   ]
  },
  {
   "cell_type": "markdown",
   "metadata": {},
   "source": [
    "### Crop the Sentinel-1 Imagery\n",
    "\n",
    "The image chips will be cropped based on the bbox from the reference data. The final output will have 200x200 pixels and 10m spatial resolution."
   ]
  },
  {
   "cell_type": "code",
   "execution_count": null,
   "metadata": {},
   "outputs": [],
   "source": [
    "%%time\n",
    "crop_other_img(sensor='s1',\n",
    "               to_crop_path='../data/gee_data',\n",
    "               out_dir='../data/croped_data',\n",
    "               ref_path='../data/croped_data')"
   ]
  },
  {
   "cell_type": "markdown",
   "metadata": {},
   "source": [
    "### Crop the Sentinel-2 Imagery\n",
    "\n",
    "The image chips will be cropped based on the bbox from the reference data. The final output will have 100x100 pixels and 20m spatial resolution."
   ]
  },
  {
   "cell_type": "code",
   "execution_count": null,
   "metadata": {},
   "outputs": [],
   "source": [
    "%%time\n",
    "crop_other_img(sensor='s2',\n",
    "               to_crop_path='../data/gee_data',\n",
    "               out_dir='../data/croped_data',\n",
    "               ref_path='../data/croped_data')"
   ]
  },
  {
   "cell_type": "markdown",
   "metadata": {},
   "source": [
    "### Crop the ALOS-PALSAR 2 Imagery\n",
    "\n",
    "The image chips will be cropped based on the bbox from the reference data. The final output will have 100x100 pixels and 20m spatial resolution."
   ]
  },
  {
   "cell_type": "code",
   "execution_count": null,
   "metadata": {},
   "outputs": [],
   "source": [
    "%%time\n",
    "crop_other_img(sensor='palsar',\n",
    "               to_crop_path='../data/gee_data',\n",
    "               out_dir='../data/croped_data',\n",
    "               ref_path='../data/croped_data')"
   ]
  },
  {
   "cell_type": "markdown",
   "metadata": {},
   "source": [
    "#### Visualize Cropped Image chips "
   ]
  },
  {
   "cell_type": "code",
   "execution_count": null,
   "metadata": {},
   "outputs": [],
   "source": [
    "# Visualize reference chips\n",
    "#vis.viz_reference(tile_number=55)\n",
    "\n",
    "# Visualize planet chips\n",
    "#vis.viz_planet(tile_number=55)\n",
    "\n",
    "# Visualize planet red chips\n",
    "#vis.viz_red(tile_number=55)\n",
    "\n",
    "# Visualize s1 chips\n",
    "#vis.viz_s1(tile_number=77)\n",
    "\n",
    "# Visualize s2 chips\n",
    "#vis.viz_s2(tile_number=10)\n",
    "\n",
    "# Visualize all chips\n",
    "#vis.viz_all(tile_number=1000)"
   ]
  },
  {
   "cell_type": "markdown",
   "metadata": {},
   "source": [
    "#### Divide in train and teste"
   ]
  },
  {
   "cell_type": "code",
   "execution_count": null,
   "metadata": {},
   "outputs": [],
   "source": [
    "%%time\n",
    "# Split the data in 80% for training and 20% for testing\n",
    "train_test_split(train_frac=0.2,\n",
    "                 Planet=False,\n",
    "                 Planet_red=True,\n",
    "                 S1=True,\n",
    "                 S2= False,\n",
    "                 Palsar= True)"
   ]
  }
 ],
 "metadata": {
  "kernelspec": {
   "display_name": "Python 3 (ipykernel)",
   "language": "python",
   "name": "python3"
  },
  "language_info": {
   "codemirror_mode": {
    "name": "ipython",
    "version": 3
   },
   "file_extension": ".py",
   "mimetype": "text/x-python",
   "name": "python",
   "nbconvert_exporter": "python",
   "pygments_lexer": "ipython3",
   "version": "3.8.12"
  }
 },
 "nbformat": 4,
 "nbformat_minor": 4
}
